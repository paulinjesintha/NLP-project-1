{
 "cells": [
  {
   "cell_type": "markdown",
   "metadata": {
    "id": "8GP6xzMQIUhl"
   },
   "source": [
    "### [Problem 1] Basic Text Analysis [45 pts]\n",
    "\n",
    "This problem involves a mix of Python review (loops, conditionals, counters/dictionaries, sorting) and learning to work with a sizable collection of text data.\n",
    "\n",
    "You will be looking at a phenomenon of \"natural languages\" (i.e., human languages, such as English) called *Zipf's law*, which relates how frequently a word occurs in a language to its \"rank\" (the word with rank 1 is the most frequently occurring word, the word with rank 2 is the second most frequently occurring word, etc). Roughly speaking, the word with rank 1 appears twice as likely as the word with rank 2, and the three times as likely as the word with rank 3, and so forth. (Some details on Zipf's law can be found on [Wikipedia](https://en.wikipedia.org/wiki/Zipf%27s_law).) In this problem, you are going to check whether Zipf's law holds for a real dataset of text documents.\n",
    "\n",
    "The dataset we look at is a collection of the 100 most popular books downloaded from the [Gutenburg Project](https://www.gutenberg.org/browse/scores/top). These 100 books form the corpus that we consider for this problem. Each file contains the text of a book. We will read in all 100 books.\n",
    "\n",
    "Note: Please *do not* change the folder name or the path, and make sure you use a relative path (e.g. './HW1_Dataset/*filename*) when reading the files. When grading your homework, we will put your Jupyter notebook file and the dataset in the same folder, and run your code. **You will not receive points for this problem if your code fails to load the data.**\n",
    "\n",
    "Hint: To list all files that match a certain pattern, you can use the `glob` package. Here's an example usage:\n",
    "\n",
    "```python\n",
    "import glob\n",
    "print(glob.glob('./HW1_Dataset/*.txt'))\n",
    "```\n",
    "\n",
    "**(a) Warm-up/basic Python review [15 pts across subparts].** This part serves as a warm-up, getting you familiar with the kind of code we will be writing in this class. Note that throughout part (a), your code should **not** be using spaCy.\n",
    "\n",
    "**Subpart i [5 pts].** Write a loop that iterates through all 100 books; for each book, print out its corresponding file name and also how long the book is in terms of string length (meaning that if we load in the book as a string, we compute the length of the string using the built-in Python function `len`; this is just counting the number of characters).\n",
    "\n",
    "**Please do not actually print out the contents of each book since many of the books are extremely long, and by printing out all the books' contents, you'll end up creating a Jupyter notebook that has a massive file size.**\n",
    "\n",
    "Hint: When debugging your code, you may want to first make sure your code runs on a few of the books rather than all 100 (for example, you can start by only having 3 of the text files in `HW1_Dataset`). Once you're confident that your solution is correct on a few text files, then run on all of them! This is a standard approach to debugging code that is meant to handle large datasets.\n",
    "\n",
    "Your output should look like (although there should be 100 books rather than 3 as shown below; also, the ordering of the books might be different on your machine):\n",
    "\n",
    "```\n",
    "./HW1_Dataset/War and Peace by graf Leo Tolstoy (251).txt 3227580\n",
    "./HW1_Dataset/Democracy in America — Volume 1 by Alexis de Tocqueville (147).txt 1148435\n",
    "./HW1_Dataset/Frankenstein; Or, The Modern Prometheus by Mary Wollstonecraft Shelley (501).txt 441034\n",
    "```"
   ]
  },
  {
   "cell_type": "code",
   "execution_count": 41,
   "metadata": {},
   "outputs": [],
   "source": [
    "import spacy\n",
    "import glob "
   ]
  },
  {
   "cell_type": "code",
   "execution_count": 62,
   "metadata": {},
   "outputs": [],
   "source": [
    "files = glob.glob('./HW1_/*.txt')"
   ]
  },
  {
   "cell_type": "code",
   "execution_count": 63,
   "metadata": {},
   "outputs": [],
   "source": [
    "for name in files : \n",
    "    file = open(name,'r')\n",
    "    data=file.read()\n",
    "    print(name, \" \",len(data))"
   ]
  },
  {
   "cell_type": "markdown",
   "metadata": {
    "id": "efsp_yqzIUho"
   },
   "source": [
    "**Subpart ii [5 pts].** Copy and paste your code from **subpart i** into the code cell below. Then in the code cell below, modify the code so that it prints out the top 15 longest books (in terms of raw string length, which is what you had already computed). In particular, please write your code so that the printout is of the following format:\n",
    "\n",
    "```\n",
    "1. <number of characters in longest text file> <filename of longest text file>\n",
    "2. <number of characters in 2nd longest text file> <filename of 2nd longest text file>\n",
    "...\n",
    "15. <number of characters in 15th longest text file> <filename of 15th longest text file>\n",
    "```\n",
    "\n",
    "Note: only print out information for the top 15 books in the format above; please do not repeat printing what we asked you to print in **subpart i**."
   ]
  },
  {
   "cell_type": "code",
   "execution_count": 64,
   "metadata": {},
   "outputs": [],
   "source": [
    "temp_list=[]\n",
    "for name in files : \n",
    "    file = open(name,'r')\n",
    "    data=file.read()\n",
    "    str_len = len(data)\n",
    "    temp_list.append((file, str_len))"
   ]
  },
  {
   "cell_type": "code",
   "execution_count": 65,
   "metadata": {},
   "outputs": [],
   "source": [
    "# save the top 15 string length values\n",
    "temp_list.sort(reverse=True)\n",
    "temp_list=temp_list[0:15]"
   ]
  },
  {
   "cell_type": "code",
   "execution_count": 66,
   "metadata": {},
   "outputs": [],
   "source": [
    "dict={}\n",
    "for name in files : \n",
    "    file = open(name,'r')\n",
    "    data=file.read()\n",
    "    if len(data) in temp_list:\n",
    "        index=temp_list.index(len(data))+1\n",
    "        dict[index]=name"
   ]
  },
  {
   "cell_type": "code",
   "execution_count": 68,
   "metadata": {},
   "outputs": [
    {
     "ename": "IndexError",
     "evalue": "list index out of range",
     "output_type": "error",
     "traceback": [
      "\u001b[1;31m---------------------------------------------------------------------------\u001b[0m",
      "\u001b[1;31mIndexError\u001b[0m                                Traceback (most recent call last)",
      "Input \u001b[1;32mIn [68]\u001b[0m, in \u001b[0;36m<cell line: 1>\u001b[1;34m()\u001b[0m\n\u001b[0;32m      1\u001b[0m \u001b[38;5;28;01mfor\u001b[39;00m i \u001b[38;5;129;01min\u001b[39;00m \u001b[38;5;28mrange\u001b[39m(\u001b[38;5;241m0\u001b[39m,\u001b[38;5;241m15\u001b[39m):\n\u001b[1;32m----> 2\u001b[0m     \u001b[38;5;28mprint\u001b[39m(\u001b[38;5;28mstr\u001b[39m(\u001b[38;5;28mint\u001b[39m(i\u001b[38;5;241m+\u001b[39m\u001b[38;5;241m1\u001b[39m))\u001b[38;5;241m+\u001b[39m\u001b[38;5;124m\"\u001b[39m\u001b[38;5;124m.\u001b[39m\u001b[38;5;124m\"\u001b[39m,\u001b[43mtemp_list\u001b[49m\u001b[43m[\u001b[49m\u001b[43mi\u001b[49m\u001b[43m]\u001b[49m,\u001b[38;5;28mdict\u001b[39m[i\u001b[38;5;241m+\u001b[39m\u001b[38;5;241m1\u001b[39m])\n",
      "\u001b[1;31mIndexError\u001b[0m: list index out of range"
     ]
    }
   ],
   "source": [
    "for i in range(0,15):\n",
    "    print(str(int(i+1))+\".\",temp_list[i],dict[i+1])"
   ]
  },
  {
   "cell_type": "code",
   "execution_count": 61,
   "metadata": {},
   "outputs": [],
   "source": []
  },
  {
   "cell_type": "markdown",
   "metadata": {
    "id": "2nFDZhmjIUhp"
   },
   "source": [
    "**Subpart iii [5 pts].** You should find that some of the books are quite long. Processing very long books will be problematic with spaCy, so we will want to chop up long books into pieces. Note that later on in the course, we shall see that chopping up large amounts of data into small pieces or \"batches\" is in fact quite common in machine learning since for massive datasets, we often cannot store them in their entirety on a CPU or GPU for processing all at once.\n",
    "\n",
    "As a toy example, suppose that a book's text is `'cat dog shark spam eggs'` and we want to split it up into batches where each batch has at most 3 words. Then we could split up the book's text into two batches/pieces: `'cat dog shark'` and `'spam eggs'`.\n",
    "\n",
    "We have provided code for you to do this below."
   ]
  },
  {
   "cell_type": "code",
   "execution_count": 58,
   "metadata": {
    "id": "yZV2gyhxIUhp",
    "outputId": "0d05f142-d05b-4cba-efa6-32f794b740c2"
   },
   "outputs": [
    {
     "name": "stdout",
     "output_type": "stream",
     "text": [
      "['cat dog shark', 'spam eggs']\n"
     ]
    }
   ],
   "source": [
    "import numpy as np\n",
    "\n",
    "def split_into_batches(book_text, max_num_words_per_batch):\n",
    "    words_split_on_spaces = book_text.split(' ')\n",
    "    num_book_pieces = int(np.ceil(len(words_split_on_spaces) / max_num_words_per_batch))\n",
    "    batches = []\n",
    "    for piece_idx in range(num_book_pieces):\n",
    "        start_idx = piece_idx * max_num_words_per_batch\n",
    "        end_idx = (piece_idx + 1) * max_num_words_per_batch\n",
    "        if end_idx > len(words_split_on_spaces):\n",
    "            end_idx = len(words_split_on_spaces)\n",
    "        book_piece = ' '.join(words_split_on_spaces[start_idx:end_idx])\n",
    "        batches.append(book_piece)\n",
    "    return batches\n",
    "\n",
    "print(split_into_batches('cat dog shark spam eggs', 3))"
   ]
  },
  {
   "cell_type": "markdown",
   "metadata": {
    "id": "2Wjar87AIUhq"
   },
   "source": [
    "Now write a loop that goes through all 100 books again. However, for each book, split it up into batches so that each batch has at most 10000 words. In this case, how many batches are there total across all 100 books? Please write code that computes this number of batches. Your code should print out the following (with the correct total number of batches):\n",
    "\n",
    "```\n",
    "Total number of batches: <total number of batches across all 100 books>\n",
    "```"
   ]
  },
  {
   "cell_type": "code",
   "execution_count": 59,
   "metadata": {},
   "outputs": [
    {
     "name": "stdout",
     "output_type": "stream",
     "text": [
      "Total number of batches: 0\n"
     ]
    }
   ],
   "source": [
    "batches=[]\n",
    "for name in files:\n",
    "    file= open(name,'r')\n",
    "    data= file.read()\n",
    "    batch=split_into_batches(data,10000)\n",
    "    batches=batches+batch\n",
    "print('Total number of batches:',len(batches))"
   ]
  },
  {
   "cell_type": "markdown",
   "metadata": {
    "id": "BFuaYyVYIUhr"
   },
   "source": [
    "**(b) [10 pts]** Now we will finally use spaCy. Note that for this problem, you don't actually need `spaCy`'s named entity recognition or grammatical parsing. Turning these elements off when you instantiate the `nlp` object can substantially speed up your code. To make sure these are off when instantiating the `nlp` object, call: \n",
    "\n",
    "```python\n",
    "nlp = spacy.load('en_core_web_sm', disable=['ner', 'parser'])\n",
    "```\n",
    "\n",
    "**Throughout this problem, do not remove stopwords.**\n",
    "\n",
    "Build a term frequency (raw counts) table that is for all 100 books. Specifically, building on your solution to part (a)-subpart iii, read in a single book at a time and for each book, do the following:\n",
    "\n",
    "  1. Split it up into batches where each batch has at most 10000 words.\n",
    "  2. For each batch:\n",
    "    1. Process the batch by separating and lemmatizing the words\n",
    "    2. Count the number of times each lemma appears and add these to the frequency table. For simplicity, **do not convert lemmas to lowercase**. (Note that we use raw counts as the \"frequency\"--do not do any division.) Also, as we explain below, we will only count lemmas that are alphabetic.\n",
    "\n",
    "Note that just as we had said in part (a): do **not** print out the complete contents of every book since doing so will result in a Jupyter notebook file that is massive.\n",
    "\n",
    "After looping through all 100 books, you should have the term frequency table for the entire corpus (importantly, the frequency table should not just be for a single book; it should be for all 100 books). Sort the table and print the top 50 most frequent words, along with their frequencies and ranks. Don't worry about ties (for example, if multiple things have the same frequency, it's fine if your solution breaks ties arbitrarily in the sorting).\n",
    "\n",
    "Note: When counting the lemmas, only include lemmas that consist of alphabetic letters (a-z and A-Z). You can do this with what's called a *regular expression*. For example, to check whether the words \"will.i.am\" or \"Tesla\" are alphabetic, you would do the following:\n",
    "\n",
    "```python\n",
    "import re  # regular expression package\n",
    "if re.match('[a-zA-Z]+$', 'will.i.am'):\n",
    "    print('will.i.am consists only of alphabetic letters!')\n",
    "if re.match('[a-zA-Z]+$', 'Tesla'):\n",
    "    print('tesla consists only of alphabetic letters!')\n",
    "```"
   ]
  },
  {
   "cell_type": "code",
   "execution_count": 17,
   "metadata": {},
   "outputs": [],
   "source": [
    "import spacy\n",
    "nlp = spacy.load('en_core_web_sm', disable=['ner', 'parser'])"
   ]
  },
  {
   "cell_type": "code",
   "execution_count": 18,
   "metadata": {},
   "outputs": [],
   "source": [
    "\n",
    "import re\n",
    "histogram = {}\n",
    "for batch in batches: \n",
    "    parsed_text=nlp(batch)\n",
    "    for token in parsed_text:\n",
    "        token_lemma = token.lemma_ \n",
    "        if not (token.pos_ == 'PUNCT' or token.pos_ == 'SPACE' or token.pos_ == 'X'):\n",
    "            if re.match('[a-zA-Z]+$',token_lemma):\n",
    "                if token_lemma not in histogram:  # if the token text is not already a key in the dictionary, create it and set its value to 1\n",
    "                    histogram[token_lemma] = 1\n",
    "                else:  # the token text is already a key in the dictionary so increase its value by 1\n",
    "                    histogram[token_lemma] += 1"
   ]
  },
  {
   "cell_type": "code",
   "execution_count": 19,
   "metadata": {},
   "outputs": [],
   "source": [
    "from operator import itemgetter\n",
    "sorted_token_count_pairs = sorted(histogram.items(),\n",
    "                                  reverse=True,\n",
    "                                  key=itemgetter(1))\n",
    "\n",
    "word_fre_rank=[]\n",
    "i=1\n",
    "for tuple in sorted_token_count_pairs:\n",
    "    lis=list(tuple)\n",
    "    lis.append(i)\n",
    "    i=i+1\n",
    "    if i <=51:\n",
    "        word_fre_rank.append(lis)"
   ]
  },
  {
   "cell_type": "code",
   "execution_count": 20,
   "metadata": {},
   "outputs": [
    {
     "ename": "ValueError",
     "evalue": "Length mismatch: Expected axis has 0 elements, new values have 3 elements",
     "output_type": "error",
     "traceback": [
      "\u001b[1;31m---------------------------------------------------------------------------\u001b[0m",
      "\u001b[1;31mValueError\u001b[0m                                Traceback (most recent call last)",
      "Input \u001b[1;32mIn [20]\u001b[0m, in \u001b[0;36m<cell line: 3>\u001b[1;34m()\u001b[0m\n\u001b[0;32m      1\u001b[0m \u001b[38;5;28;01mimport\u001b[39;00m \u001b[38;5;21;01mpandas\u001b[39;00m \u001b[38;5;28;01mas\u001b[39;00m \u001b[38;5;21;01mpd\u001b[39;00m\n\u001b[0;32m      2\u001b[0m df \u001b[38;5;241m=\u001b[39m pd\u001b[38;5;241m.\u001b[39mDataFrame(word_fre_rank)\n\u001b[1;32m----> 3\u001b[0m df\u001b[38;5;241m.\u001b[39mcolumns \u001b[38;5;241m=\u001b[39m [\u001b[38;5;124m'\u001b[39m\u001b[38;5;124mWord\u001b[39m\u001b[38;5;124m'\u001b[39m, \u001b[38;5;124m'\u001b[39m\u001b[38;5;124mFrequency\u001b[39m\u001b[38;5;124m'\u001b[39m,\u001b[38;5;124m'\u001b[39m\u001b[38;5;124mRank\u001b[39m\u001b[38;5;124m'\u001b[39m]\n\u001b[0;32m      4\u001b[0m df[:\u001b[38;5;241m50\u001b[39m]\n",
      "File \u001b[1;32m~\\anaconda3\\lib\\site-packages\\pandas\\core\\generic.py:5588\u001b[0m, in \u001b[0;36mNDFrame.__setattr__\u001b[1;34m(self, name, value)\u001b[0m\n\u001b[0;32m   5586\u001b[0m \u001b[38;5;28;01mtry\u001b[39;00m:\n\u001b[0;32m   5587\u001b[0m     \u001b[38;5;28mobject\u001b[39m\u001b[38;5;241m.\u001b[39m\u001b[38;5;21m__getattribute__\u001b[39m(\u001b[38;5;28mself\u001b[39m, name)\n\u001b[1;32m-> 5588\u001b[0m     \u001b[38;5;28;01mreturn\u001b[39;00m \u001b[38;5;28;43mobject\u001b[39;49m\u001b[38;5;241;43m.\u001b[39;49m\u001b[38;5;21;43m__setattr__\u001b[39;49m\u001b[43m(\u001b[49m\u001b[38;5;28;43mself\u001b[39;49m\u001b[43m,\u001b[49m\u001b[43m \u001b[49m\u001b[43mname\u001b[49m\u001b[43m,\u001b[49m\u001b[43m \u001b[49m\u001b[43mvalue\u001b[49m\u001b[43m)\u001b[49m\n\u001b[0;32m   5589\u001b[0m \u001b[38;5;28;01mexcept\u001b[39;00m \u001b[38;5;167;01mAttributeError\u001b[39;00m:\n\u001b[0;32m   5590\u001b[0m     \u001b[38;5;28;01mpass\u001b[39;00m\n",
      "File \u001b[1;32m~\\anaconda3\\lib\\site-packages\\pandas\\_libs\\properties.pyx:70\u001b[0m, in \u001b[0;36mpandas._libs.properties.AxisProperty.__set__\u001b[1;34m()\u001b[0m\n",
      "File \u001b[1;32m~\\anaconda3\\lib\\site-packages\\pandas\\core\\generic.py:769\u001b[0m, in \u001b[0;36mNDFrame._set_axis\u001b[1;34m(self, axis, labels)\u001b[0m\n\u001b[0;32m    767\u001b[0m \u001b[38;5;28;01mdef\u001b[39;00m \u001b[38;5;21m_set_axis\u001b[39m(\u001b[38;5;28mself\u001b[39m, axis: \u001b[38;5;28mint\u001b[39m, labels: Index) \u001b[38;5;241m-\u001b[39m\u001b[38;5;241m>\u001b[39m \u001b[38;5;28;01mNone\u001b[39;00m:\n\u001b[0;32m    768\u001b[0m     labels \u001b[38;5;241m=\u001b[39m ensure_index(labels)\n\u001b[1;32m--> 769\u001b[0m     \u001b[38;5;28;43mself\u001b[39;49m\u001b[38;5;241;43m.\u001b[39;49m\u001b[43m_mgr\u001b[49m\u001b[38;5;241;43m.\u001b[39;49m\u001b[43mset_axis\u001b[49m\u001b[43m(\u001b[49m\u001b[43maxis\u001b[49m\u001b[43m,\u001b[49m\u001b[43m \u001b[49m\u001b[43mlabels\u001b[49m\u001b[43m)\u001b[49m\n\u001b[0;32m    770\u001b[0m     \u001b[38;5;28mself\u001b[39m\u001b[38;5;241m.\u001b[39m_clear_item_cache()\n",
      "File \u001b[1;32m~\\anaconda3\\lib\\site-packages\\pandas\\core\\internals\\managers.py:214\u001b[0m, in \u001b[0;36mBaseBlockManager.set_axis\u001b[1;34m(self, axis, new_labels)\u001b[0m\n\u001b[0;32m    212\u001b[0m \u001b[38;5;28;01mdef\u001b[39;00m \u001b[38;5;21mset_axis\u001b[39m(\u001b[38;5;28mself\u001b[39m, axis: \u001b[38;5;28mint\u001b[39m, new_labels: Index) \u001b[38;5;241m-\u001b[39m\u001b[38;5;241m>\u001b[39m \u001b[38;5;28;01mNone\u001b[39;00m:\n\u001b[0;32m    213\u001b[0m     \u001b[38;5;66;03m# Caller is responsible for ensuring we have an Index object.\u001b[39;00m\n\u001b[1;32m--> 214\u001b[0m     \u001b[38;5;28;43mself\u001b[39;49m\u001b[38;5;241;43m.\u001b[39;49m\u001b[43m_validate_set_axis\u001b[49m\u001b[43m(\u001b[49m\u001b[43maxis\u001b[49m\u001b[43m,\u001b[49m\u001b[43m \u001b[49m\u001b[43mnew_labels\u001b[49m\u001b[43m)\u001b[49m\n\u001b[0;32m    215\u001b[0m     \u001b[38;5;28mself\u001b[39m\u001b[38;5;241m.\u001b[39maxes[axis] \u001b[38;5;241m=\u001b[39m new_labels\n",
      "File \u001b[1;32m~\\anaconda3\\lib\\site-packages\\pandas\\core\\internals\\base.py:69\u001b[0m, in \u001b[0;36mDataManager._validate_set_axis\u001b[1;34m(self, axis, new_labels)\u001b[0m\n\u001b[0;32m     66\u001b[0m     \u001b[38;5;28;01mpass\u001b[39;00m\n\u001b[0;32m     68\u001b[0m \u001b[38;5;28;01melif\u001b[39;00m new_len \u001b[38;5;241m!=\u001b[39m old_len:\n\u001b[1;32m---> 69\u001b[0m     \u001b[38;5;28;01mraise\u001b[39;00m \u001b[38;5;167;01mValueError\u001b[39;00m(\n\u001b[0;32m     70\u001b[0m         \u001b[38;5;124mf\u001b[39m\u001b[38;5;124m\"\u001b[39m\u001b[38;5;124mLength mismatch: Expected axis has \u001b[39m\u001b[38;5;132;01m{\u001b[39;00mold_len\u001b[38;5;132;01m}\u001b[39;00m\u001b[38;5;124m elements, new \u001b[39m\u001b[38;5;124m\"\u001b[39m\n\u001b[0;32m     71\u001b[0m         \u001b[38;5;124mf\u001b[39m\u001b[38;5;124m\"\u001b[39m\u001b[38;5;124mvalues have \u001b[39m\u001b[38;5;132;01m{\u001b[39;00mnew_len\u001b[38;5;132;01m}\u001b[39;00m\u001b[38;5;124m elements\u001b[39m\u001b[38;5;124m\"\u001b[39m\n\u001b[0;32m     72\u001b[0m     )\n",
      "\u001b[1;31mValueError\u001b[0m: Length mismatch: Expected axis has 0 elements, new values have 3 elements"
     ]
    }
   ],
   "source": [
    "import pandas as pd\n",
    "df = pd.DataFrame(word_fre_rank)\n",
    "df.columns = ['Word', 'Frequency','Rank']\n",
    "df[:50]"
   ]
  },
  {
   "cell_type": "markdown",
   "metadata": {
    "id": "CGpRkIBFIUhr"
   },
   "source": [
    "**(c) [10 pts]** Visualize the frequency table by plotting a **raw scatter plot** (put frequency as the y-axis and rank as the x-axis), and a **log-log plot** (use logarithmic scales on both the x- and y- axes). Note that this should be for all words and not only the top 50. As before, for the ranks, do not worry about ties, i.e., break ties arbitrarily."
   ]
  },
  {
   "cell_type": "code",
   "execution_count": 21,
   "metadata": {},
   "outputs": [
    {
     "data": {
      "image/png": "[encoded data removed]",
      "text/plain": [
       "<Figure size 576x396 with 1 Axes>"
      ]
     },
     "metadata": {
      "image/png": {
       "height": 343,
       "width": 507
      }
     },
     "output_type": "display_data"
    }
   ],
   "source": [
    "%matplotlib inline\n",
    "import matplotlib.pyplot as plt\n",
    "plt.style.use('seaborn')  # prettier plots (for example, use 'ggplot' instead of 'seaborn' for plots like in R)\n",
    "%config InlineBackend.figure_format = 'retina'  # if you use a Mac with Retina display\n",
    "\n",
    "num_top_lemmas_to_plot = len(sorted_token_count_pairs)\n",
    "top_counts = [count for lemma, count in sorted_token_count_pairs[:num_top_lemmas_to_plot]]\n",
    "plt.scatter(range(num_top_lemmas_to_plot),top_counts)\n",
    "plt.xlabel('Rank')\n",
    "plt.ylabel('Frequency');\n"
   ]
  },
  {
   "cell_type": "code",
   "execution_count": 22,
   "metadata": {},
   "outputs": [
    {
     "data": {
      "image/png": "[encoded data removed]",
      "text/plain": [
       "<Figure size 576x396 with 1 Axes>"
      ]
     },
     "metadata": {
      "image/png": {
       "height": 349,
       "width": 497
      }
     },
     "output_type": "display_data"
    }
   ],
   "source": [
    "import numpy as np\n",
    "num_top_lemmas_to_plot = len(sorted_token_count_pairs)\n",
    "x_input = np.linspace(1, len(sorted_token_count_pairs), num=len(sorted_token_count_pairs))\n",
    "y_input = [count for lemma, count in sorted_token_count_pairs[:num_top_lemmas_to_plot]]\n",
    "plt.loglog(x_input, y_input)\n",
    "plt.xlabel('Rank')\n",
    "plt.ylabel('Frequency');"
   ]
  },
  {
   "cell_type": "markdown",
   "metadata": {
    "id": "VDfuokiVIUhr"
   },
   "source": [
    "**(d) [10 pts across subparts]** Let's now try to make sense of the very last plot in part **(c)**. Zipf's law states that term frequency is governed by a power law, i.e. the relationship between term frequency and rank can be approximated by $f(r) = cr^{-1}$, where $f(r)$ is the frequency of the term at rank $r$, $r$ is the rank of a term, and $c$ is a constant that is approximately 0.1*(corpus size) for English.\n",
    "\n",
    "Please answer the following questions:\n",
    "\n",
    "**Subpart i [3 pts].** What do you observe in the log-log plot above? Is this consist with the power law?"
   ]
  },
  {
   "cell_type": "markdown",
   "metadata": {
    "id": "OuxRv41gIUhr"
   },
   "source": [
    "Your text answer (for this question, your answer is *not* code): *** It is observed that the frequency of any word is inversely proportional to its rank, the slope is close to -1 if drawing a straight line alone with the original line. It does consist of the power law  ***"
   ]
  },
  {
   "cell_type": "markdown",
   "metadata": {
    "id": "pGE9NFmKIUhs"
   },
   "source": [
    "**Subpart ii [4 pts].** Think of the corpus as a (large) unigram bag of words. Following the analogy from lecture, imagine drawing a single word from this big bag (note that we are assuming that we've lemmatized the words and also filtered out non-alphabetic words; thus what remains in the bag are actually alphabetic lemmas). What is the probability of drawing one of the 4 most frequent alphabetic lemmas? What is the probability of drawing one of the 50 most frequent alphabetic lemmas? Answer these two questions using code rather than just entering in the final answers as numbers."
   ]
  },
  {
   "cell_type": "code",
   "execution_count": 23,
   "metadata": {
    "id": "cTc9t8OhIUhs",
    "outputId": "84eb8f27-93d8-4228-e93a-4e518558e655"
   },
   "outputs": [
    {
     "ename": "ZeroDivisionError",
     "evalue": "division by zero",
     "output_type": "error",
     "traceback": [
      "\u001b[1;31m---------------------------------------------------------------------------\u001b[0m",
      "\u001b[1;31mZeroDivisionError\u001b[0m                         Traceback (most recent call last)",
      "Input \u001b[1;32mIn [23]\u001b[0m, in \u001b[0;36m<cell line: 10>\u001b[1;34m()\u001b[0m\n\u001b[0;32m      8\u001b[0m     num\u001b[38;5;241m=\u001b[39mtup[\u001b[38;5;241m1\u001b[39m]\n\u001b[0;32m      9\u001b[0m     four_fre_sum\u001b[38;5;241m=\u001b[39mfour_fre_sum\u001b[38;5;241m+\u001b[39mnum\n\u001b[1;32m---> 10\u001b[0m prob_4\u001b[38;5;241m=\u001b[39m\u001b[43mfour_fre_sum\u001b[49m\u001b[38;5;241;43m/\u001b[39;49m\u001b[43mall_sum\u001b[49m\n\u001b[0;32m     12\u001b[0m fifty_fre_sum\u001b[38;5;241m=\u001b[39m\u001b[38;5;241m0\u001b[39m\n\u001b[0;32m     13\u001b[0m \u001b[38;5;28;01mfor\u001b[39;00m tup \u001b[38;5;129;01min\u001b[39;00m sorted_token_count_pairs[\u001b[38;5;241m0\u001b[39m:\u001b[38;5;241m50\u001b[39m]:\n",
      "\u001b[1;31mZeroDivisionError\u001b[0m: division by zero"
     ]
    }
   ],
   "source": [
    "all_sum=0\n",
    "for tup in sorted_token_count_pairs:\n",
    "    num=tup[1]\n",
    "    all_sum=all_sum+num\n",
    "    \n",
    "four_fre_sum=0\n",
    "for tup in sorted_token_count_pairs[0:4]:\n",
    "    num=tup[1]\n",
    "    four_fre_sum=four_fre_sum+num\n",
    "prob_4=four_fre_sum/all_sum\n",
    "\n",
    "fifty_fre_sum=0\n",
    "for tup in sorted_token_count_pairs[0:50]:\n",
    "    num=tup[1]\n",
    "    fifty_fre_sum=fifty_fre_sum+num\n",
    "prob_50=fifty_fre_sum/all_sum\n",
    "\n",
    "\n",
    "print('Probability of drawing one of the 4 most frequent alphabetic lemmas:',prob_4)\n",
    "print('Probability of drawing one of the 50 most frequent alphabetic lemmas: ',prob_50)"
   ]
  },
  {
   "cell_type": "markdown",
   "metadata": {
    "id": "59gHjrftIUhs"
   },
   "source": [
    "**Subpart iii [3 pts].** What proportion of the alphabetic lemmas occur only once? What proportion of the alphabetic lemmas occur fewer than 10 times?"
   ]
  },
  {
   "cell_type": "code",
   "execution_count": 24,
   "metadata": {
    "id": "ZbyM-TU2IUhs",
    "outputId": "77d23ea6-cf4e-49a8-91a9-e80ad344706a",
    "scrolled": true
   },
   "outputs": [
    {
     "ename": "ZeroDivisionError",
     "evalue": "division by zero",
     "output_type": "error",
     "traceback": [
      "\u001b[1;31m---------------------------------------------------------------------------\u001b[0m",
      "\u001b[1;31mZeroDivisionError\u001b[0m                         Traceback (most recent call last)",
      "Input \u001b[1;32mIn [24]\u001b[0m, in \u001b[0;36m<cell line: 5>\u001b[1;34m()\u001b[0m\n\u001b[0;32m      3\u001b[0m     \u001b[38;5;28;01mif\u001b[39;00m tup[\u001b[38;5;241m1\u001b[39m]\u001b[38;5;241m==\u001b[39m\u001b[38;5;241m1\u001b[39m:\n\u001b[0;32m      4\u001b[0m         once_sum\u001b[38;5;241m=\u001b[39monce_sum\u001b[38;5;241m+\u001b[39m\u001b[38;5;241m1\u001b[39m\n\u001b[1;32m----> 5\u001b[0m prob_once\u001b[38;5;241m=\u001b[39m \u001b[43monce_sum\u001b[49m\u001b[38;5;241;43m/\u001b[39;49m\u001b[38;5;28;43mlen\u001b[39;49m\u001b[43m(\u001b[49m\u001b[43msorted_token_count_pairs\u001b[49m\u001b[43m)\u001b[49m \n\u001b[0;32m      7\u001b[0m fewer_10_sum\u001b[38;5;241m=\u001b[39m\u001b[38;5;241m0\u001b[39m\n\u001b[0;32m      8\u001b[0m \u001b[38;5;28;01mfor\u001b[39;00m tup \u001b[38;5;129;01min\u001b[39;00m sorted_token_count_pairs:\n",
      "\u001b[1;31mZeroDivisionError\u001b[0m: division by zero"
     ]
    }
   ],
   "source": [
    "once_sum=0\n",
    "for tup in sorted_token_count_pairs:\n",
    "    if tup[1]==1:\n",
    "        once_sum=once_sum+1\n",
    "prob_once= once_sum/len(sorted_token_count_pairs) \n",
    "\n",
    "fewer_10_sum=0\n",
    "for tup in sorted_token_count_pairs:\n",
    "    if tup[1]<10:\n",
    "        fewer_10_sum=fewer_10_sum+1\n",
    "prob_fewer_10= fewer_10_sum/len(sorted_token_count_pairs)\n",
    "\n",
    "\n",
    "print(\"Occur only once: \",prob_once)\n",
    "print(\"Occur fewer than 10 times: \",prob_fewer_10)"
   ]
  },
  {
   "cell_type": "markdown",
   "metadata": {
    "id": "I63qS2ROIUhs"
   },
   "source": [
    "### [Problem 2] Entity Recognition and Pointwise Mutual Information (PMI) [55 pts]\n",
    "By using the entity recognition system in `spaCy`, let's identify named entities from newspaper articles. You'll be using Reuters corpus which contains more than ten thousand newspaper articles. To run the code below, you need to download the Reuters dataset. To do so, in a terminal/command line (recall that you can open a terminal from Jupyter's webpage that shows all the files, which by default is [http://localhost:8888/tree](http://localhost:8888/tree)), start up Python and enter:\n",
    "\n",
    "```python\n",
    "import nltk\n",
    "nltk.download('reuters')\n",
    "```\n",
    "\n",
    "Then proceed to the problem subparts below.\n",
    "\n",
    "Note that in this problem you will need named entity recognition but not grammatical parsing. Hence, you will want to instantiate the nlp object by calling:\n",
    "\n",
    "```python\n",
    "nlp = spacy.load('en_core_web_sm', disable=['parser'])\n",
    "```\n"
   ]
  },
  {
   "cell_type": "markdown",
   "metadata": {
    "id": "6xs7AaxHIUhs"
   },
   "source": [
    "**(a) [15 pts]** Draw a bar chart in which one of the axes shows entity labels and the other shows the frequency of the corresponding label. Use the variables `reuters_nlp` and `label_counter` provided in the code below."
   ]
  },
  {
   "cell_type": "code",
   "execution_count": null,
   "metadata": {
    "colab": {
     "base_uri": "https://localhost:8080/"
    },
    "id": "aSZv6xESIqfo",
    "outputId": "ec8765c2-cd4c-4b45-aa15-64ee141bb342"
   },
   "outputs": [],
   "source": [
    "import spacy\n",
    "import nltk\n",
    "nltk.download('reuters')\n",
    "nlp = spacy.load('en_core_web_sm', disable=['parser'])"
   ]
  },
  {
   "cell_type": "code",
   "execution_count": null,
   "metadata": {
    "colab": {
     "base_uri": "https://localhost:8080/"
    },
    "id": "gok69eE5IUhs",
    "outputId": "4e2fe383-a0b5-4c78-f2b8-57004dda0c04",
    "scrolled": false
   },
   "outputs": [],
   "source": [
    "import matplotlib.pyplot as plt\n",
    "from collections import Counter\n",
    "from nltk.corpus import reuters\n",
    "import re\n",
    "import spacy\n",
    "nlp = spacy.load('en_core_web_sm', disable=['parser', 'tagger'])\n",
    "reuters_fileids = reuters.fileids()  # hint: when first debugging, consider looking at just the first few\n",
    "reuters_nlp = [nlp(re.sub('\\s+',' ', reuters.raw(i)).strip()) for i in reuters_fileids]"
   ]
  },
  {
   "cell_type": "code",
   "execution_count": null,
   "metadata": {},
   "outputs": [],
   "source": [
    "label_counter = Counter()\n",
    "for paragraph in reuters_nlp:\n",
    "    for entity in paragraph.ents:\n",
    "        label_counter[entity.label_] += 1  \n",
    "sorted_ent_label_count_pairs = label_counter.most_common()"
   ]
  },
  {
   "cell_type": "code",
   "execution_count": null,
   "metadata": {},
   "outputs": [],
   "source": [
    "%matplotlib inline\n",
    "import matplotlib.pyplot as plt\n",
    "plt.style.use('seaborn')  # prettier plots (for example, use 'ggplot' instead of 'seaborn' for plots like in R)\n",
    "%config InlineBackend.figure_format = 'retina' \n",
    "\n",
    "entity = [entity for entity, count in sorted_ent_label_count_pairs]\n",
    "counts = [count for entity, count in sorted_ent_label_count_pairs]\n",
    "plt.bar(range(len(sorted_ent_label_count_pairs)),counts)\n",
    "plt.xticks(range(len(sorted_ent_label_count_pairs)),entity, rotation=90)\n",
    "plt.xlabel('Entity Label')\n",
    "plt.ylabel('Raw count');"
   ]
  },
  {
   "cell_type": "markdown",
   "metadata": {},
   "source": [
    "#### sorted_ent_label_count_pairs[0:5]"
   ]
  },
  {
   "cell_type": "markdown",
   "metadata": {
    "id": "P2UQvizFIUhs"
   },
   "source": [
    "**(b) [20 pts]** Now list the top 10 most frequently occurring entities (entity text and the number of occurence) with label `ORG` (organization). Separately list the top 10 most frequently occurring entities with label `GPE` (geopolitical entity such as countries, cities, states) respectively. **In both cases, please convert the entity names to lowercase first before computing the top 10.**\n",
    "\n",
    "Here, when counting the (raw count) frequency, we need to count how many articles have an entity with the desired property. For every article, we add 1 if the article has the entity and 0 otherwise."
   ]
  },
  {
   "cell_type": "code",
   "execution_count": null,
   "metadata": {},
   "outputs": [],
   "source": [
    "lowercase_GPE_entity_counter=Counter()\n",
    "for paragraph in reuters_nlp:\n",
    "    temp_list=[]\n",
    "    check_existence={}\n",
    "    for ent in paragraph.ents:\n",
    "        temp_list.append(ent.orth_.lower())\n",
    "    for entity in paragraph.ents:\n",
    "            if entity.label_ == 'GPE':\n",
    "                if entity.orth_.lower() in temp_list:\n",
    "                    check_existence[entity.orth_.lower()]=True\n",
    "    for str_lower_ent in check_existence:\n",
    "        if check_existence.get(str_lower_ent)==True:\n",
    "            lowercase_GPE_entity_counter[str_lower_ent]+=1"
   ]
  },
  {
   "cell_type": "code",
   "execution_count": null,
   "metadata": {},
   "outputs": [],
   "source": [
    "sorted_lowercase_GPE_entity_counter=lowercase_GPE_entity_counter.most_common()\n",
    "print('Top 10 most frequently occurring GPE entities :')\n",
    "sorted_lowercase_GPE_entity_counter[0:10]"
   ]
  },
  {
   "cell_type": "code",
   "execution_count": null,
   "metadata": {},
   "outputs": [],
   "source": [
    "lowercase_ORG_entity_counter=Counter()\n",
    "for paragraph in reuters_nlp:\n",
    "    temp_list=[]\n",
    "    check_existence={}\n",
    "    for ent in paragraph.ents:\n",
    "        temp_list.append(ent.orth_.lower())\n",
    "    for entity in paragraph.ents:\n",
    "            if entity.label_ == 'ORG':\n",
    "                if entity.orth_.lower() in temp_list:\n",
    "                    check_existence[entity.orth_.lower()]=True\n",
    "    for str_lower_ent in check_existence:\n",
    "        if check_existence.get(str_lower_ent)==True:\n",
    "            lowercase_ORG_entity_counter[str_lower_ent]+=1"
   ]
  },
  {
   "cell_type": "code",
   "execution_count": null,
   "metadata": {},
   "outputs": [],
   "source": [
    "sorted_lowercase_ORG_entity_counter=lowercase_ORG_entity_counter.most_common()\n",
    "print('Top 10 most frequently occurring ORG entities :')\n",
    "sorted_lowercase_ORG_entity_counter[0:10]"
   ]
  },
  {
   "cell_type": "markdown",
   "metadata": {
    "id": "awogDo8qIUht"
   },
   "source": [
    "**(c) [20 pts]** Give the top 50 `GPE` (countries, cities, states) entities that have the highest Pointwise Mutual Information (PMI) values with regard to the `ORG` (organization) entity **'opec'** (your list of this top 50 should be ranked in decreasing PMI value). Did you find any unexpected results? If so, why do you think it happened? If you found some of the results to be unsurprisingly, how come? **Just like in the previous part, please convert entity names to lowercase in your analysis.**\n",
    "\n",
    "Hint 1: As in lecture, when computing PMI, we will compute probabilities by counting the number of documents where entities occur or co-occur.  For example, $P('opec') = \\frac{number \\ \\ of \\ \\ documents \\ \\ containing \\ \\ 'opec'}{number \\ \\ of \\ \\ documents}$.  \n",
    "\n",
    "Hint 2: To compute this ranking, you do not have to compute the full PMI equation."
   ]
  },
  {
   "cell_type": "code",
   "execution_count": null,
   "metadata": {},
   "outputs": [],
   "source": [
    "# calculate the prob of opec\n",
    "num_doc_opec=0\n",
    "for paragraph in reuters_nlp:\n",
    "    for entity in paragraph.ents:\n",
    "        if entity.label_ == 'ORG':\n",
    "            if entity.orth_.lower()=='opec':\n",
    "                num_doc_opec=num_doc_opec+1\n",
    "                break \n",
    "prob_opec= num_doc_opec/ len(reuters_nlp)\n",
    "prob_opec"
   ]
  },
  {
   "cell_type": "code",
   "execution_count": null,
   "metadata": {},
   "outputs": [],
   "source": [
    "# calculate the prob of each GPE \n",
    "prob_GPE={}\n",
    "for tuple in sorted_lowercase_GPE_entity_counter:\n",
    "    prob_GPE[tuple[0]] = tuple[1]/ len(reuters_nlp)"
   ]
  },
  {
   "cell_type": "code",
   "execution_count": null,
   "metadata": {},
   "outputs": [],
   "source": [
    "# calculate the prob (GPE entity, opec)\n",
    "count=0\n",
    "GPE_pair_with_opec_counter=Counter()\n",
    "for paragraph in reuters_nlp:\n",
    "    temp_list_opec=[]\n",
    "    temp_list_GPE=[]\n",
    "    combine_list=[]\n",
    "    for ent in paragraph.ents:\n",
    "        if ent.label_ == 'ORG' and ent.orth_.lower()== 'opec':\n",
    "            if 'opec' not in temp_list_opec:\n",
    "                temp_list_opec.append(ent.orth_.lower())\n",
    "    for ent in paragraph.ents:\n",
    "        if ent.label_ == 'GPE':\n",
    "            if ent.orth_.lower() not in temp_list_GPE:\n",
    "                temp_list_GPE.append(ent.orth_.lower())    \n",
    "    if 'opec' in temp_list_opec:\n",
    "        for entity in temp_list_GPE:\n",
    "            GPE_pair_with_opec_counter[entity]+=1    \n",
    "\n",
    "sorted_GPE_pair_with_opec_counter= GPE_pair_with_opec_counter.most_common()\n",
    "prob_GPE_pair_with_opec={}\n",
    "for tuple in sorted_GPE_pair_with_opec_counter:\n",
    "    prob_GPE_pair_with_opec[tuple[0]] = tuple[1]/len(reuters_nlp)"
   ]
  },
  {
   "cell_type": "code",
   "execution_count": null,
   "metadata": {},
   "outputs": [],
   "source": [
    "#calculate the PMI \n",
    "import numpy as np \n",
    "denominator={}\n",
    "PMI_pair_opec={}\n",
    "for lowercase_entity in prob_GPE:\n",
    "    denominator[lowercase_entity]= prob_GPE.get(lowercase_entity)*prob_opec\n",
    "for lowercase_entity in prob_GPE_pair_with_opec:\n",
    "    PMI_pair_opec[lowercase_entity] = np.log(prob_GPE_pair_with_opec[lowercase_entity]/denominator[lowercase_entity])\n",
    "\n",
    "sorted_PMI_pair_opec = sorted(PMI_pair_opec.items(), key=lambda x:x[1], reverse=True)\n",
    "sorted_PMI_pair_opec[0:50]"
   ]
  },
  {
   "cell_type": "markdown",
   "metadata": {
    "id": "BIkSKMl1IUht"
   },
   "source": [
    "Your text answer (for this question, your answer is *not* code): ***The most frequent entities across the document do not show a high PMI score with the word \"OPEC,\" such as \"u.s.\" and \"japan.\" This is because, even though these entities appear frequently, they tend to be independent of OPEC.The entities that have a high PMI score with OPEC are not necessarily the ones that appear frequently in the document, but rather, they show a strong dependence on OPEC when they appear.***"
   ]
  }
 ],
 "metadata": {
  "anaconda-cloud": {},
  "colab": {
   "provenance": []
  },
  "kernelspec": {
   "display_name": "Python 3 (ipykernel)",
   "language": "python",
   "name": "python3"
  },
  "language_info": {
   "codemirror_mode": {
    "name": "ipython",
    "version": 3
   },
   "file_extension": ".py",
   "mimetype": "text/x-python",
   "name": "python",
   "nbconvert_exporter": "python",
   "pygments_lexer": "ipython3",
   "version": "3.9.12"
  }
 },
 "nbformat": 4,
 "nbformat_minor": 1
}
